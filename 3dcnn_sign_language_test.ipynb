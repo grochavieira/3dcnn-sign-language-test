{
 "cells": [
  {
   "cell_type": "markdown",
   "metadata": {
    "id": "VQeVLpDiTa09"
   },
   "source": [
    "# Classificação de vídeos de LIBRAS\n",
    "- link do exemplo como base: https://keras.io/examples/vision/3D_image_classification/"
   ]
  },
  {
   "cell_type": "markdown",
   "metadata": {},
   "source": [
    "# Importações necessárias"
   ]
  },
  {
   "cell_type": "code",
   "execution_count": 19,
   "metadata": {
    "id": "h9zjm94r8qr7"
   },
   "outputs": [],
   "source": [
    "import os\n",
    "import zipfile\n",
    "import numpy as np\n",
    "import tensorflow as tf\n",
    "import sys\n",
    "import argparse\n",
    "import cv2\n",
    "\n",
    "from tensorflow import keras\n",
    "from tensorflow.keras import layers"
   ]
  },
  {
   "cell_type": "markdown",
   "metadata": {},
   "source": [
    "# Variáveis Globais"
   ]
  },
  {
   "cell_type": "code",
   "execution_count": 20,
   "metadata": {},
   "outputs": [],
   "source": [
    "train_size      = 7  # Tamanho dos dados para treinamento\n",
    "batch_size      = 10 # Tamanho total dos dados de treinamento e validação\n",
    "num_of_frames   = 12 # Número de frames que o vídeo será dividido\n",
    "width           = 80 # Largura da imagem\n",
    "height          = 80 # Altura da imagem\n",
    "num_of_channels = 1  # Número de canais da imagem (cinza, RGB, etc.)"
   ]
  },
  {
   "cell_type": "markdown",
   "metadata": {
    "id": "9V7YewWH8GxK"
   },
   "source": [
    "# Download do opencv"
   ]
  },
  {
   "cell_type": "code",
   "execution_count": 5,
   "metadata": {
    "scrolled": true
   },
   "outputs": [
    {
     "name": "stdout",
     "output_type": "stream",
     "text": [
      "Requirement already satisfied: opencv-python in c:\\users\\lenovo\\appdata\\local\\programs\\python\\python39\\lib\\site-packages (4.5.3.56)\n",
      "Requirement already satisfied: numpy>=1.19.3 in c:\\users\\lenovo\\appdata\\local\\programs\\python\\python39\\lib\\site-packages (from opencv-python) (1.19.5)\n"
     ]
    },
    {
     "name": "stderr",
     "output_type": "stream",
     "text": [
      "WARNING: You are using pip version 21.1.3; however, version 21.2.4 is available.\n",
      "You should consider upgrading via the 'c:\\users\\lenovo\\appdata\\local\\programs\\python\\python39\\python.exe -m pip install --upgrade pip' command.\n"
     ]
    }
   ],
   "source": [
    "!pip install opencv-python"
   ]
  },
  {
   "cell_type": "markdown",
   "metadata": {},
   "source": [
    "# Função para transformar o vídeo em frames"
   ]
  },
  {
   "cell_type": "code",
   "execution_count": 21,
   "metadata": {
    "colab": {
     "base_uri": "https://localhost:8080/",
     "height": 1000
    },
    "id": "JNQpBPtS8Laj",
    "outputId": "53eb49ea-3618-4ddc-eceb-c0a0264433e5",
    "scrolled": true
   },
   "outputs": [],
   "source": [
    "def extractImages(pathIn, pathOut):\n",
    "    count = 0\n",
    "    vidcap = cv2.VideoCapture(pathIn)\n",
    "    success,image = vidcap.read()\n",
    "    success = True\n",
    "    while success and count < 6:\n",
    "        # 1000 = 1 segundo, 500 = meio segundo...\n",
    "        vidcap.set(cv2.CAP_PROP_POS_MSEC,(count*500)) # seta o momento do vídeo para pegar o frame\n",
    "        success, image = vidcap.read() # pega de fato o frame, e se deu sucesso ou não\n",
    "        print ('Read a new frame: ', success)\n",
    "        cv2.imwrite( pathOut + \"\\\\frame%d.jpg\" % count, image)     # save frame as JPEG file\n",
    "        count = count + 1"
   ]
  },
  {
   "cell_type": "markdown",
   "metadata": {},
   "source": [
    "# Chamada da função de transformar vídeos em frames"
   ]
  },
  {
   "cell_type": "code",
   "execution_count": 3,
   "metadata": {
    "scrolled": false
   },
   "outputs": [
    {
     "ename": "NameError",
     "evalue": "name 'extractImages' is not defined",
     "output_type": "error",
     "traceback": [
      "\u001b[1;31m---------------------------------------------------------------------------\u001b[0m",
      "\u001b[1;31mNameError\u001b[0m                                 Traceback (most recent call last)",
      "\u001b[1;32m~\\AppData\\Local\\Temp/ipykernel_9740/3950969831.py\u001b[0m in \u001b[0;36m<module>\u001b[1;34m\u001b[0m\n\u001b[0;32m      3\u001b[0m     \u001b[0mvarInput\u001b[0m  \u001b[1;33m=\u001b[0m \u001b[1;34m\"./LIBRAS-Dataset/Sinalizador01/01AcontecerSinalizador01-{}.mp4\"\u001b[0m\u001b[1;33m.\u001b[0m\u001b[0mformat\u001b[0m\u001b[1;33m(\u001b[0m\u001b[0mindex\u001b[0m\u001b[1;33m)\u001b[0m\u001b[1;33m\u001b[0m\u001b[1;33m\u001b[0m\u001b[0m\n\u001b[0;32m      4\u001b[0m     \u001b[0mvarOutput\u001b[0m \u001b[1;33m=\u001b[0m \u001b[1;34m\"./Frames/Sinalizador01/Acontecer/0{}\"\u001b[0m\u001b[1;33m.\u001b[0m\u001b[0mformat\u001b[0m\u001b[1;33m(\u001b[0m\u001b[0mindex\u001b[0m\u001b[1;33m)\u001b[0m\u001b[1;33m\u001b[0m\u001b[1;33m\u001b[0m\u001b[0m\n\u001b[1;32m----> 5\u001b[1;33m     \u001b[0mextractImages\u001b[0m\u001b[1;33m(\u001b[0m\u001b[0mvarInput\u001b[0m\u001b[1;33m,\u001b[0m \u001b[0mvarOutput\u001b[0m\u001b[1;33m)\u001b[0m\u001b[1;33m\u001b[0m\u001b[1;33m\u001b[0m\u001b[0m\n\u001b[0m",
      "\u001b[1;31mNameError\u001b[0m: name 'extractImages' is not defined"
     ]
    }
   ],
   "source": [
    "for i in range(5):\n",
    "    index = i + 1\n",
    "    varInput  = \"./LIBRAS-Dataset/Sinalizador01/01AcontecerSinalizador01-{}.mp4\".format(index)\n",
    "    varOutput = \"./Frames/Sinalizador01/Acontecer/0{}\".format(index)\n",
    "    extractImages(varInput, varOutput)"
   ]
  },
  {
   "cell_type": "markdown",
   "metadata": {},
   "source": [
    "# Transformação dos frames para uma variável e junção dos arquivos no formato ideal para entrada da 3DCNN"
   ]
  },
  {
   "cell_type": "code",
   "execution_count": 22,
   "metadata": {},
   "outputs": [
    {
     "name": "stdout",
     "output_type": "stream",
     "text": [
      "Sucesso!\n",
      "Sucesso!\n",
      "Sucesso!\n",
      "Sucesso!\n",
      "Sucesso!\n",
      "Sucesso!\n",
      "Sucesso!\n",
      "Sucesso!\n",
      "Sucesso!\n",
      "Sucesso!\n",
      "Sucesso!\n",
      "Sucesso!\n",
      "Sucesso!\n",
      "Sucesso!\n",
      "Sucesso!\n",
      "Sucesso!\n",
      "Sucesso!\n",
      "Sucesso!\n",
      "Sucesso!\n",
      "Sucesso!\n",
      "Sucesso!\n",
      "Sucesso!\n",
      "Sucesso!\n",
      "Sucesso!\n",
      "Sucesso!\n",
      "Sucesso!\n",
      "Sucesso!\n",
      "Sucesso!\n",
      "Sucesso!\n",
      "Sucesso!\n",
      "Sucesso!\n",
      "Sucesso!\n",
      "Sucesso!\n",
      "Sucesso!\n",
      "Sucesso!\n",
      "Sucesso!\n",
      "Sucesso!\n",
      "Sucesso!\n",
      "Sucesso!\n",
      "Sucesso!\n",
      "Sucesso!\n",
      "Sucesso!\n",
      "Sucesso!\n",
      "Sucesso!\n",
      "Sucesso!\n",
      "Sucesso!\n",
      "Sucesso!\n",
      "Sucesso!\n",
      "Sucesso!\n",
      "Sucesso!\n",
      "Sucesso!\n",
      "Sucesso!\n",
      "Sucesso!\n",
      "Sucesso!\n",
      "Sucesso!\n",
      "Sucesso!\n",
      "Sucesso!\n",
      "Sucesso!\n",
      "Sucesso!\n",
      "Sucesso!\n",
      "Sucesso!\n",
      "Sucesso!\n",
      "Sucesso!\n",
      "Sucesso!\n",
      "Sucesso!\n",
      "Sucesso!\n",
      "Sucesso!\n",
      "Sucesso!\n",
      "Sucesso!\n",
      "Sucesso!\n",
      "Sucesso!\n",
      "Sucesso!\n",
      "Sucesso!\n",
      "Sucesso!\n",
      "Sucesso!\n",
      "Sucesso!\n",
      "Sucesso!\n",
      "Sucesso!\n",
      "Sucesso!\n",
      "Sucesso!\n",
      "Sucesso!\n",
      "Sucesso!\n",
      "Sucesso!\n",
      "Sucesso!\n",
      "Sucesso!\n",
      "Sucesso!\n",
      "Sucesso!\n",
      "Sucesso!\n",
      "Sucesso!\n",
      "Sucesso!\n",
      "Sucesso!\n",
      "Sucesso!\n",
      "Sucesso!\n",
      "Sucesso!\n",
      "Sucesso!\n",
      "Sucesso!\n",
      "Sucesso!\n",
      "Sucesso!\n",
      "Sucesso!\n",
      "Sucesso!\n",
      "Sucesso!\n",
      "Sucesso!\n",
      "Sucesso!\n",
      "Sucesso!\n",
      "Sucesso!\n",
      "Sucesso!\n",
      "Sucesso!\n",
      "Sucesso!\n",
      "Sucesso!\n",
      "Sucesso!\n",
      "Sucesso!\n",
      "Sucesso!\n",
      "Sucesso!\n",
      "Sucesso!\n",
      "Sucesso!\n",
      "Sucesso!\n",
      "Sucesso!\n",
      "Sucesso!\n",
      "Sucesso!\n",
      "Sucesso!\n"
     ]
    }
   ],
   "source": [
    "video_folder = './LIBRAS-Dataset/Acontecer/' # caminho da pasta com os arquivos\n",
    "X_data = [] # armazena os frames\n",
    "Y_data = [] # armazena as labels\n",
    "list_of_videos = os.listdir(video_folder) # pega o nome de todos os arquivos dentro da pasta\n",
    "\n",
    "# print(list_of_videos)\n",
    "\n",
    "# pega o nome de cada arquivo de vídeo e passa para transformar em frames\n",
    "for i in list_of_videos:\n",
    "    # caminho do vídeo\n",
    "    vid = str(video_folder + i)\n",
    "    # lê o vídeo\n",
    "    cap = cv2.VideoCapture(vid)\n",
    "    frames = [] # armazenar os frames\n",
    "    count = 0 # contador para pegar cada frame\n",
    "    for j in range(num_of_frames): # aqui pegamos n frames de acordo com num_of_frames\n",
    "        # 1000 = 1 segundo, 500 = meio segundo...\n",
    "        cap.set(cv2.CAP_PROP_POS_MSEC,(count*250)) # seta o momento do vídeo para pegar o frame\n",
    "        ret, frame = cap.read() # pega de fato o frame, e se deu sucesso ou não\n",
    "        if ret == True: # se deu sucesso...\n",
    "            print('Sucesso!')\n",
    "            frame = cv2.cvtColor(frame, cv2.COLOR_BGR2GRAY) # converte o frame para cinza\n",
    "            frame = cv2.resize(frame,(width,height),interpolation=cv2.INTER_AREA) # redimensiona o frame\n",
    "            frames.append(frame) # adiciona o frame para o vetor de frames\n",
    "        else:\n",
    "            print('Erro!')\n",
    "        count = count + 1\n",
    "    X_data.append(frames) # adiciona todos os frames de um vídeo\n",
    "    Y_data.append(1) # adiciona a label do conjunto de frames\n",
    "X_data = np.array(X_data) # transforma o vetor de frames em array numpy\n",
    "Y_data = np.array(Y_data) # transforma o vetor de label dos frames em array numpy"
   ]
  },
  {
   "cell_type": "code",
   "execution_count": 101,
   "metadata": {},
   "outputs": [],
   "source": [
    "# !pip install matplotlib"
   ]
  },
  {
   "cell_type": "code",
   "execution_count": 23,
   "metadata": {},
   "outputs": [
    {
     "data": {
      "text/plain": [
       "<matplotlib.image.AxesImage at 0x1584e0af880>"
      ]
     },
     "execution_count": 23,
     "metadata": {},
     "output_type": "execute_result"
    },
    {
     "data": {
      "image/png": "[encoded data removed]",
      "text/plain": [
       "<Figure size 432x288 with 1 Axes>"
      ]
     },
     "metadata": {
      "needs_background": "light"
     },
     "output_type": "display_data"
    },
    {
     "data": {
      "image/png": "[encoded data removed]",
      "text/plain": [
       "<Figure size 432x288 with 6 Axes>"
      ]
     },
     "metadata": {
      "needs_background": "light"
     },
     "output_type": "display_data"
    }
   ],
   "source": [
    "from PIL import Image\n",
    "import matplotlib.pyplot as plt\n",
    "\n",
    "# converte a imagem de numpy para Image\n",
    "image0 = Image.fromarray(X_data[0][0])\n",
    "image1 = Image.fromarray(X_data[0][1])\n",
    "image2 = Image.fromarray(X_data[0][2])\n",
    "image3 = Image.fromarray(X_data[0][3])\n",
    "image4 = Image.fromarray(X_data[0][4])\n",
    "image5 = Image.fromarray(X_data[0][5])\n",
    "\n",
    "# plota as imagens\n",
    "plt.imshow(image0, 'gray')\n",
    "f, axarr = plt.subplots(1, 6)\n",
    "axarr[0].imshow(image0, 'gray')\n",
    "axarr[1].imshow(image1, 'gray')\n",
    "axarr[2].imshow(image2, 'gray')\n",
    "axarr[3].imshow(image3, 'gray')\n",
    "axarr[4].imshow(image4, 'gray')\n",
    "axarr[5].imshow(image5, 'gray')"
   ]
  },
  {
   "cell_type": "markdown",
   "metadata": {},
   "source": [
    "# Remodelar o conjunto de dados\n",
    "Exemplo:\n",
    "So, if you have 10000 samples in total, using sets of 10 frames per input, with 30 x 30 dimensions and 1 channel of color, you may reshape your X_data like:\n",
    "\n",
    "X_data = X_data.reshape(10000, 10, 30, 30, 1)"
   ]
  },
  {
   "cell_type": "code",
   "execution_count": 24,
   "metadata": {
    "scrolled": false
   },
   "outputs": [
    {
     "name": "stdout",
     "output_type": "stream",
     "text": [
      "(10, 12, 80, 80, 1)\n"
     ]
    }
   ],
   "source": [
    "# transforma os dados dos frames armazenados no formato ideal para ser usado no treinamento\n",
    "X_data = X_data.reshape(batch_size, num_of_frames, width, height, num_of_channels)\n",
    "print(np.shape(X_data))"
   ]
  },
  {
   "cell_type": "markdown",
   "metadata": {},
   "source": [
    "# Criar conjunto de dados para treinamento"
   ]
  },
  {
   "cell_type": "code",
   "execution_count": 25,
   "metadata": {},
   "outputs": [
    {
     "name": "stdout",
     "output_type": "stream",
     "text": [
      "Número de amostras para treino e validação são 7 e 3.\n"
     ]
    }
   ],
   "source": [
    "# Divide os dados entre treinamento e teste\n",
    "x_train = X_data[:train_size] #treinamento\n",
    "y_train = Y_data[:train_size] #treinamento\n",
    "x_val   = X_data[train_size:] #teste\n",
    "y_val   = Y_data[train_size:] #teste\n",
    "\n",
    "print(\"Número de amostras para treino e validação são %d e %d.\"% (x_train.shape[0], x_val.shape[0]))"
   ]
  },
  {
   "cell_type": "markdown",
   "metadata": {
    "id": "oKBya7k0fP1C"
   },
   "source": [
    "# Definição da Rede Neural Convolucional 3D "
   ]
  },
  {
   "cell_type": "code",
   "execution_count": 26,
   "metadata": {},
   "outputs": [
    {
     "name": "stdout",
     "output_type": "stream",
     "text": [
      "Model: \"sequential_4\"\n",
      "_________________________________________________________________\n",
      "Layer (type)                 Output Shape              Param #   \n",
      "=================================================================\n",
      "conv3d_12 (Conv3D)           (None, 8, 76, 78, 32)     2432      \n",
      "_________________________________________________________________\n",
      "max_pooling3d_8 (MaxPooling3 (None, 4, 38, 78, 32)     0         \n",
      "_________________________________________________________________\n",
      "conv3d_13 (Conv3D)           (None, 2, 36, 76, 32)     27680     \n",
      "_________________________________________________________________\n",
      "max_pooling3d_9 (MaxPooling3 (None, 1, 18, 76, 32)     0         \n",
      "_________________________________________________________________\n",
      "conv3d_14 (Conv3D)           (None, 1, 18, 74, 32)     3104      \n",
      "_________________________________________________________________\n",
      "flatten_4 (Flatten)          (None, 42624)             0         \n",
      "_________________________________________________________________\n",
      "dense_4 (Dense)              (None, 1)                 42625     \n",
      "=================================================================\n",
      "Total params: 75,841\n",
      "Trainable params: 75,841\n",
      "Non-trainable params: 0\n",
      "_________________________________________________________________\n"
     ]
    }
   ],
   "source": [
    " def get_model():\n",
    "    \n",
    "    # Camadas do modelo\n",
    "    \n",
    "    model = keras.Sequential()\n",
    "\n",
    "    model.add(keras.layers.Conv3D(32, (5,5,3), activation='relu', input_shape=(num_of_frames, width, height, num_of_channels)))\n",
    "\n",
    "    model.add(keras.layers.MaxPooling3D((2, 2, 1), padding='same'))\n",
    "\n",
    "    model.add(keras.layers.Conv3D(32, (3,3,3), activation='relu'))\n",
    "\n",
    "    model.add(keras.layers.MaxPooling3D((2, 2, 1), padding='same'))\n",
    "\n",
    "    model.add(keras.layers.Conv3D(32, (1,1,3), activation='relu'))\n",
    "\n",
    "    model.add(keras.layers.Flatten())\n",
    "#     model.add(keras.layers.Dense(200, activation='sigmoid'))\n",
    "#     model.add(keras.layers.Dropout(0.5))\n",
    "    model.add(keras.layers.Dense(1, activation='softmax'))\n",
    "    \n",
    "    model.compile(loss='categorical_crossentropy', optimizer='Adam', metrics=['accuracy'])\n",
    "\n",
    "    return model\n",
    "\n",
    "# Constrói o modelo.\n",
    "model = get_model()\n",
    "\n",
    "# Dados do modelo\n",
    "model.summary()"
   ]
  },
  {
   "cell_type": "markdown",
   "metadata": {
    "id": "A1cqOPuch3qC"
   },
   "source": [
    "# Treinamento do Modelo"
   ]
  },
  {
   "cell_type": "code",
   "execution_count": 27,
   "metadata": {
    "colab": {
     "base_uri": "https://localhost:8080/"
    },
    "id": "lo5Qoi4SJ-0N",
    "outputId": "6d2f5ac0-de3d-42ea-e579-2c84d9af5029"
   },
   "outputs": [
    {
     "name": "stdout",
     "output_type": "stream",
     "text": [
      "Epoch 1/100\n",
      "1/1 [==============================] - 1s 583ms/step - loss: 1.1335 - acc: 1.0000\n",
      "Epoch 2/100\n",
      "1/1 [==============================] - 0s 127ms/step - loss: 1.7567e-15 - acc: 1.0000\n",
      "Epoch 3/100\n",
      "1/1 [==============================] - 0s 123ms/step - loss: 2.8135e-26 - acc: 1.0000\n",
      "Epoch 4/100\n",
      "1/1 [==============================] - 0s 123ms/step - loss: 5.4502e-35 - acc: 1.0000\n",
      "Epoch 5/100\n",
      "1/1 [==============================] - 0s 122ms/step - loss: 0.0000e+00 - acc: 1.0000\n",
      "Epoch 6/100\n",
      "1/1 [==============================] - 0s 123ms/step - loss: 0.0000e+00 - acc: 1.0000\n",
      "Epoch 7/100\n",
      "1/1 [==============================] - 0s 123ms/step - loss: 0.0000e+00 - acc: 1.0000\n",
      "Epoch 8/100\n",
      "1/1 [==============================] - 0s 120ms/step - loss: 0.0000e+00 - acc: 1.0000\n",
      "Epoch 9/100\n",
      "1/1 [==============================] - 0s 121ms/step - loss: 0.0000e+00 - acc: 1.0000\n",
      "Epoch 10/100\n",
      "1/1 [==============================] - 0s 123ms/step - loss: 0.0000e+00 - acc: 1.0000\n",
      "Epoch 11/100\n",
      "1/1 [==============================] - 0s 122ms/step - loss: 0.0000e+00 - acc: 1.0000\n",
      "Epoch 12/100\n",
      "1/1 [==============================] - 0s 122ms/step - loss: 0.0000e+00 - acc: 1.0000\n",
      "Epoch 13/100\n",
      "1/1 [==============================] - 0s 122ms/step - loss: 0.0000e+00 - acc: 1.0000\n",
      "Epoch 14/100\n",
      "1/1 [==============================] - 0s 123ms/step - loss: 0.0000e+00 - acc: 1.0000\n",
      "Epoch 15/100\n",
      "1/1 [==============================] - 0s 124ms/step - loss: 0.0000e+00 - acc: 1.0000\n",
      "Epoch 16/100\n",
      "1/1 [==============================] - 0s 121ms/step - loss: 0.0000e+00 - acc: 1.0000\n",
      "Epoch 17/100\n",
      "1/1 [==============================] - 0s 121ms/step - loss: 0.0000e+00 - acc: 1.0000\n",
      "Epoch 18/100\n",
      "1/1 [==============================] - 0s 125ms/step - loss: 0.0000e+00 - acc: 1.0000\n",
      "Epoch 19/100\n",
      "1/1 [==============================] - 0s 121ms/step - loss: 0.0000e+00 - acc: 1.0000\n",
      "Epoch 20/100\n",
      "1/1 [==============================] - 0s 122ms/step - loss: 0.0000e+00 - acc: 1.0000\n",
      "Epoch 21/100\n",
      "1/1 [==============================] - 0s 121ms/step - loss: 0.0000e+00 - acc: 1.0000\n",
      "Epoch 22/100\n",
      "1/1 [==============================] - 0s 121ms/step - loss: 0.0000e+00 - acc: 1.0000\n",
      "Epoch 23/100\n",
      "1/1 [==============================] - 0s 124ms/step - loss: 0.0000e+00 - acc: 1.0000\n",
      "Epoch 24/100\n",
      "1/1 [==============================] - 0s 121ms/step - loss: 0.0000e+00 - acc: 1.0000\n",
      "Epoch 25/100\n",
      "1/1 [==============================] - 0s 136ms/step - loss: 0.0000e+00 - acc: 1.0000\n",
      "Epoch 26/100\n",
      "1/1 [==============================] - 0s 122ms/step - loss: 0.0000e+00 - acc: 1.0000\n",
      "Epoch 27/100\n",
      "1/1 [==============================] - 0s 123ms/step - loss: 0.0000e+00 - acc: 1.0000\n",
      "Epoch 28/100\n",
      "1/1 [==============================] - 0s 121ms/step - loss: 0.0000e+00 - acc: 1.0000\n",
      "Epoch 29/100\n",
      "1/1 [==============================] - 0s 121ms/step - loss: 0.0000e+00 - acc: 1.0000\n",
      "Epoch 30/100\n",
      "1/1 [==============================] - 0s 123ms/step - loss: 0.0000e+00 - acc: 1.0000\n",
      "Epoch 31/100\n",
      "1/1 [==============================] - 0s 123ms/step - loss: 0.0000e+00 - acc: 1.0000\n",
      "Epoch 32/100\n",
      "1/1 [==============================] - 0s 122ms/step - loss: 0.0000e+00 - acc: 1.0000\n",
      "Epoch 33/100\n",
      "1/1 [==============================] - 0s 122ms/step - loss: 0.0000e+00 - acc: 1.0000\n",
      "Epoch 34/100\n",
      "1/1 [==============================] - 0s 122ms/step - loss: 0.0000e+00 - acc: 1.0000\n",
      "Epoch 35/100\n",
      "1/1 [==============================] - 0s 122ms/step - loss: 0.0000e+00 - acc: 1.0000\n",
      "Epoch 36/100\n",
      "1/1 [==============================] - 0s 120ms/step - loss: 0.0000e+00 - acc: 1.0000\n",
      "Epoch 37/100\n",
      "1/1 [==============================] - 0s 120ms/step - loss: 0.0000e+00 - acc: 1.0000\n",
      "Epoch 38/100\n",
      "1/1 [==============================] - 0s 124ms/step - loss: 0.0000e+00 - acc: 1.0000\n",
      "Epoch 39/100\n",
      "1/1 [==============================] - 0s 121ms/step - loss: 0.0000e+00 - acc: 1.0000\n",
      "Epoch 40/100\n",
      "1/1 [==============================] - 0s 122ms/step - loss: 0.0000e+00 - acc: 1.0000\n",
      "Epoch 41/100\n",
      "1/1 [==============================] - 0s 122ms/step - loss: 0.0000e+00 - acc: 1.0000\n",
      "Epoch 42/100\n",
      "1/1 [==============================] - 0s 124ms/step - loss: 0.0000e+00 - acc: 1.0000\n",
      "Epoch 43/100\n",
      "1/1 [==============================] - 0s 122ms/step - loss: 0.0000e+00 - acc: 1.0000\n",
      "Epoch 44/100\n",
      "1/1 [==============================] - 0s 123ms/step - loss: 0.0000e+00 - acc: 1.0000\n",
      "Epoch 45/100\n",
      "1/1 [==============================] - 0s 122ms/step - loss: 0.0000e+00 - acc: 1.0000\n",
      "Epoch 46/100\n",
      "1/1 [==============================] - 0s 122ms/step - loss: 0.0000e+00 - acc: 1.0000\n",
      "Epoch 47/100\n",
      "1/1 [==============================] - 0s 122ms/step - loss: 0.0000e+00 - acc: 1.0000\n",
      "Epoch 48/100\n",
      "1/1 [==============================] - 0s 122ms/step - loss: 0.0000e+00 - acc: 1.0000\n",
      "Epoch 49/100\n",
      "1/1 [==============================] - 0s 121ms/step - loss: 0.0000e+00 - acc: 1.0000\n",
      "Epoch 50/100\n",
      "1/1 [==============================] - 0s 122ms/step - loss: 0.0000e+00 - acc: 1.0000\n",
      "Epoch 51/100\n",
      "1/1 [==============================] - 0s 122ms/step - loss: 0.0000e+00 - acc: 1.0000\n",
      "Epoch 52/100\n",
      "1/1 [==============================] - 0s 123ms/step - loss: 0.0000e+00 - acc: 1.0000\n",
      "Epoch 53/100\n",
      "1/1 [==============================] - 0s 121ms/step - loss: 0.0000e+00 - acc: 1.0000\n",
      "Epoch 54/100\n",
      "1/1 [==============================] - 0s 122ms/step - loss: 0.0000e+00 - acc: 1.0000\n",
      "Epoch 55/100\n",
      "1/1 [==============================] - 0s 121ms/step - loss: 0.0000e+00 - acc: 1.0000\n",
      "Epoch 56/100\n",
      "1/1 [==============================] - 0s 121ms/step - loss: 0.0000e+00 - acc: 1.0000\n",
      "Epoch 57/100\n",
      "1/1 [==============================] - 0s 124ms/step - loss: 0.0000e+00 - acc: 1.0000\n",
      "Epoch 58/100\n",
      "1/1 [==============================] - 0s 124ms/step - loss: 0.0000e+00 - acc: 1.0000\n",
      "Epoch 59/100\n",
      "1/1 [==============================] - 0s 122ms/step - loss: 0.0000e+00 - acc: 1.0000\n",
      "Epoch 60/100\n",
      "1/1 [==============================] - 0s 121ms/step - loss: 0.0000e+00 - acc: 1.0000\n",
      "Epoch 61/100\n",
      "1/1 [==============================] - 0s 121ms/step - loss: 0.0000e+00 - acc: 1.0000\n",
      "Epoch 62/100\n",
      "1/1 [==============================] - 0s 123ms/step - loss: 0.0000e+00 - acc: 1.0000\n",
      "Epoch 63/100\n",
      "1/1 [==============================] - 0s 123ms/step - loss: 0.0000e+00 - acc: 1.0000\n",
      "Epoch 64/100\n",
      "1/1 [==============================] - 0s 121ms/step - loss: 0.0000e+00 - acc: 1.0000\n",
      "Epoch 65/100\n",
      "1/1 [==============================] - 0s 120ms/step - loss: 0.0000e+00 - acc: 1.0000\n",
      "Epoch 66/100\n",
      "1/1 [==============================] - 0s 122ms/step - loss: 0.0000e+00 - acc: 1.0000\n",
      "Epoch 67/100\n",
      "1/1 [==============================] - 0s 122ms/step - loss: 0.0000e+00 - acc: 1.0000\n",
      "Epoch 68/100\n",
      "1/1 [==============================] - 0s 122ms/step - loss: 0.0000e+00 - acc: 1.0000\n",
      "Epoch 69/100\n",
      "1/1 [==============================] - 0s 120ms/step - loss: 0.0000e+00 - acc: 1.0000\n",
      "Epoch 70/100\n",
      "1/1 [==============================] - 0s 121ms/step - loss: 0.0000e+00 - acc: 1.0000\n",
      "Epoch 71/100\n",
      "1/1 [==============================] - 0s 122ms/step - loss: 0.0000e+00 - acc: 1.0000\n",
      "Epoch 72/100\n",
      "1/1 [==============================] - 0s 120ms/step - loss: 0.0000e+00 - acc: 1.0000\n",
      "Epoch 73/100\n",
      "1/1 [==============================] - 0s 122ms/step - loss: 0.0000e+00 - acc: 1.0000\n",
      "Epoch 74/100\n",
      "1/1 [==============================] - 0s 122ms/step - loss: 0.0000e+00 - acc: 1.0000\n",
      "Epoch 75/100\n",
      "1/1 [==============================] - 0s 123ms/step - loss: 0.0000e+00 - acc: 1.0000\n",
      "Epoch 76/100\n",
      "1/1 [==============================] - 0s 120ms/step - loss: 0.0000e+00 - acc: 1.0000\n",
      "Epoch 77/100\n",
      "1/1 [==============================] - 0s 122ms/step - loss: 0.0000e+00 - acc: 1.0000\n",
      "Epoch 78/100\n",
      "1/1 [==============================] - 0s 123ms/step - loss: 0.0000e+00 - acc: 1.0000\n",
      "Epoch 79/100\n",
      "1/1 [==============================] - 0s 124ms/step - loss: 0.0000e+00 - acc: 1.0000\n",
      "Epoch 80/100\n",
      "1/1 [==============================] - 0s 121ms/step - loss: 0.0000e+00 - acc: 1.0000\n",
      "Epoch 81/100\n",
      "1/1 [==============================] - 0s 120ms/step - loss: 0.0000e+00 - acc: 1.0000\n",
      "Epoch 82/100\n",
      "1/1 [==============================] - 0s 122ms/step - loss: 0.0000e+00 - acc: 1.0000\n",
      "Epoch 83/100\n"
     ]
    },
    {
     "name": "stdout",
     "output_type": "stream",
     "text": [
      "1/1 [==============================] - 0s 122ms/step - loss: 0.0000e+00 - acc: 1.0000\n",
      "Epoch 84/100\n",
      "1/1 [==============================] - 0s 120ms/step - loss: 0.0000e+00 - acc: 1.0000\n",
      "Epoch 85/100\n",
      "1/1 [==============================] - 0s 120ms/step - loss: 0.0000e+00 - acc: 1.0000\n",
      "Epoch 86/100\n",
      "1/1 [==============================] - 0s 121ms/step - loss: 0.0000e+00 - acc: 1.0000\n",
      "Epoch 87/100\n",
      "1/1 [==============================] - 0s 122ms/step - loss: 0.0000e+00 - acc: 1.0000\n",
      "Epoch 88/100\n",
      "1/1 [==============================] - 0s 120ms/step - loss: 0.0000e+00 - acc: 1.0000\n",
      "Epoch 89/100\n",
      "1/1 [==============================] - 0s 131ms/step - loss: 0.0000e+00 - acc: 1.0000\n",
      "Epoch 90/100\n",
      "1/1 [==============================] - 0s 123ms/step - loss: 0.0000e+00 - acc: 1.0000\n",
      "Epoch 91/100\n",
      "1/1 [==============================] - 0s 121ms/step - loss: 0.0000e+00 - acc: 1.0000\n",
      "Epoch 92/100\n",
      "1/1 [==============================] - 0s 120ms/step - loss: 0.0000e+00 - acc: 1.0000\n",
      "Epoch 93/100\n",
      "1/1 [==============================] - 0s 122ms/step - loss: 0.0000e+00 - acc: 1.0000\n",
      "Epoch 94/100\n",
      "1/1 [==============================] - 0s 123ms/step - loss: 0.0000e+00 - acc: 1.0000\n",
      "Epoch 95/100\n",
      "1/1 [==============================] - 0s 123ms/step - loss: 0.0000e+00 - acc: 1.0000\n",
      "Epoch 96/100\n",
      "1/1 [==============================] - 0s 121ms/step - loss: 0.0000e+00 - acc: 1.0000\n",
      "Epoch 97/100\n",
      "1/1 [==============================] - 0s 121ms/step - loss: 0.0000e+00 - acc: 1.0000\n",
      "Epoch 98/100\n",
      "1/1 [==============================] - 0s 122ms/step - loss: 0.0000e+00 - acc: 1.0000\n",
      "Epoch 99/100\n",
      "1/1 [==============================] - 0s 122ms/step - loss: 0.0000e+00 - acc: 1.0000\n",
      "Epoch 100/100\n",
      "1/1 [==============================] - 0s 120ms/step - loss: 0.0000e+00 - acc: 1.0000\n"
     ]
    },
    {
     "data": {
      "text/plain": [
       "<keras.callbacks.History at 0x15860032760>"
      ]
     },
     "execution_count": 27,
     "metadata": {},
     "output_type": "execute_result"
    }
   ],
   "source": [
    "# Compila o modelo.\n",
    "initial_learning_rate = 0.0001\n",
    "lr_schedule = keras.optimizers.schedules.ExponentialDecay(\n",
    "    initial_learning_rate, decay_steps=100000, decay_rate=0.96, staircase=True\n",
    ")\n",
    "model.compile(\n",
    "    loss=\"binary_crossentropy\",\n",
    "    optimizer=keras.optimizers.Adam(learning_rate=lr_schedule),\n",
    "    metrics=[\"acc\"],\n",
    ")\n",
    "\n",
    "# Define callbacks.\n",
    "checkpoint_cb = keras.callbacks.ModelCheckpoint(\n",
    "    \"3d_image_classification.h5\", save_best_only=True\n",
    ")\n",
    "early_stopping_cb = keras.callbacks.EarlyStopping(monitor=\"val_acc\", patience=15)\n",
    "\n",
    "# Treina o modelo\n",
    "epochs = 100\n",
    "model.fit(x_train, y_train, epochs=epochs, batch_size=train_size)"
   ]
  },
  {
   "cell_type": "markdown",
   "metadata": {},
   "source": [
    "# Validação do modelo"
   ]
  },
  {
   "cell_type": "code",
   "execution_count": 10,
   "metadata": {},
   "outputs": [
    {
     "name": "stdout",
     "output_type": "stream",
     "text": [
      "1/1 [==============================] - 0s 353ms/step - loss: 0.0000e+00 - acc: 1.0000\n"
     ]
    },
    {
     "data": {
      "text/plain": [
       "[0.0, 1.0]"
      ]
     },
     "execution_count": 10,
     "metadata": {},
     "output_type": "execute_result"
    }
   ],
   "source": [
    "model.evaluate(x_val, y_val)"
   ]
  }
 ],
 "metadata": {
  "accelerator": "GPU",
  "colab": {
   "collapsed_sections": [],
   "name": "3dcnn-sign-language-test.ipynb",
   "provenance": []
  },
  "kernelspec": {
   "display_name": "Python 3 (ipykernel)",
   "language": "python",
   "name": "python3"
  },
  "language_info": {
   "codemirror_mode": {
    "name": "ipython",
    "version": 3
   },
   "file_extension": ".py",
   "mimetype": "text/x-python",
   "name": "python",
   "nbconvert_exporter": "python",
   "pygments_lexer": "ipython3",
   "version": "3.9.6"
  }
 },
 "nbformat": 4,
 "nbformat_minor": 1
}
